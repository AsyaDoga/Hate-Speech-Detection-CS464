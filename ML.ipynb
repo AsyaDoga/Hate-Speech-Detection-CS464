{
 "cells": [
  {
   "cell_type": "code",
   "execution_count": 105,
   "metadata": {},
   "outputs": [
    {
     "name": "stderr",
     "output_type": "stream",
     "text": [
      "[nltk_data] Downloading package punkt to\n",
      "[nltk_data]     C:\\Users\\ufukp\\AppData\\Roaming\\nltk_data...\n",
      "[nltk_data]   Package punkt is already up-to-date!\n",
      "[nltk_data] Downloading package wordnet to\n",
      "[nltk_data]     C:\\Users\\ufukp\\AppData\\Roaming\\nltk_data...\n",
      "[nltk_data]   Package wordnet is already up-to-date!\n",
      "[nltk_data] Downloading package omw-1.4 to\n",
      "[nltk_data]     C:\\Users\\ufukp\\AppData\\Roaming\\nltk_data...\n",
      "[nltk_data]   Package omw-1.4 is already up-to-date!\n",
      "[nltk_data] Downloading package averaged_perceptron_tagger to\n",
      "[nltk_data]     C:\\Users\\ufukp\\AppData\\Roaming\\nltk_data...\n",
      "[nltk_data]   Package averaged_perceptron_tagger is already up-to-\n",
      "[nltk_data]       date!\n",
      "[nltk_data] Downloading package stopwords to\n",
      "[nltk_data]     C:\\Users\\ufukp\\AppData\\Roaming\\nltk_data...\n",
      "[nltk_data]   Package stopwords is already up-to-date!\n"
     ]
    },
    {
     "data": {
      "text/plain": [
       "True"
      ]
     },
     "execution_count": 105,
     "metadata": {},
     "output_type": "execute_result"
    }
   ],
   "source": [
    "from tkinter import W\n",
    "from trace import Trace\n",
    "import pandas as pd\n",
    "import numpy as np\n",
    "import nltk\n",
    "import pickle\n",
    "import csv\n",
    "#nltk.download()\n",
    "\n",
    "from nltk.tokenize import word_tokenize\n",
    "from nltk import pos_tag\n",
    "from nltk.corpus import stopwords\n",
    "from nltk.stem import WordNetLemmatizer\n",
    "from sklearn.preprocessing import LabelEncoder\n",
    "from collections import defaultdict\n",
    "from nltk.corpus import wordnet as wn\n",
    "from sklearn.feature_extraction.text import TfidfVectorizer\n",
    "from sklearn import model_selection, naive_bayes, svm\n",
    "from sklearn.ensemble import RandomForestClassifier\n",
    "from sklearn.metrics import precision_score, accuracy_score, f1_score, confusion_matrix, recall_score\n",
    "\n",
    "nltk.download('punkt')\n",
    "nltk.download('wordnet')\n",
    "nltk.download('omw-1.4')\n",
    "nltk.download('averaged_perceptron_tagger')\n",
    "nltk.download('stopwords')"
   ]
  },
  {
   "cell_type": "code",
   "execution_count": 106,
   "metadata": {},
   "outputs": [],
   "source": [
    "import pickle\n",
    "hate_data, hate_labels = [], [] \n",
    "with open(\"hate_dataset\", \"rb\") as fp:     \n",
    "    hate_data= pickle.load(fp)\n",
    "with open(\"hate_labels\", \"rb\") as fp:     \n",
    "    hate_labels= pickle.load(fp)\n",
    "\n",
    "#print(hate_data)\n"
   ]
  },
  {
   "cell_type": "code",
   "execution_count": 107,
   "metadata": {},
   "outputs": [],
   "source": [
    "hate_data = pd.DataFrame(hate_data)\n",
    "\n",
    "hate_data[0].dropna(inplace=True)\n",
    "hate_data[0] = [entry.lower() for entry in hate_data[0]] # all lowercase\n",
    "hate_data[0]= [word_tokenize(entry) for entry in hate_data[0]] # tokenization\n",
    "tag_map = defaultdict(lambda : wn.NOUN)\n",
    "tag_map['J'] = wn.ADJ #seperate adjectives\n",
    "tag_map['V'] = wn.VERB #seperate verbs\n",
    "tag_map['R'] = wn.ADV #seperate adverbs"
   ]
  },
  {
   "cell_type": "code",
   "execution_count": 108,
   "metadata": {},
   "outputs": [
    {
     "name": "stdout",
     "output_type": "stream",
     "text": [
      "Finished preprocessing\n"
     ]
    }
   ],
   "source": [
    "for index,entry in enumerate(hate_data[0]):\n",
    "    # Declaring Empty List to store the words that follow the rules for this step\n",
    "    Final_words = []\n",
    "    # Initializing WordNetLemmatizer()\n",
    "    word_Lemmatized = WordNetLemmatizer()\n",
    "    # pos_tag function below will provide the 'tag' i.e if the word is Noun(N) or Verb(V) or something else.\n",
    "    for word, tag in pos_tag(entry):\n",
    "        # Below condition is to check for Stop words and consider only alphabets\n",
    "        if word not in stopwords.words('english') and word.isalpha():\n",
    "            word_Final = word_Lemmatized.lemmatize(word,tag_map[tag[0]])\n",
    "            Final_words.append(word_Final)\n",
    "    # The final processed set of words for each iteration will be stored in 'text_final'\n",
    "    hate_data.loc[index,'text_final'] = str(Final_words)\n",
    "    \n",
    "print(\"Finished preprocessing\")\n",
    "    "
   ]
  },
  {
   "cell_type": "code",
   "execution_count": 76,
   "metadata": {},
   "outputs": [
    {
     "name": "stdout",
     "output_type": "stream",
     "text": [
      "0        ['hurray', 'save', 'u', 'many', 'way', 'potus'...\n",
      "1        ['would', 'young', 'fight', 'age', 'men', 'vas...\n",
      "2        ['kamalaharris', 'illegals', 'dump', 'kid', 'b...\n",
      "3        ['ny', 'time', 'white', 'state', 'pose', 'arra...\n",
      "4        ['orban', 'brussels', 'european', 'leader', 'i...\n",
      "                               ...                        \n",
      "26810                   ['cry', 'hard', 'waifu', 'faggot']\n",
      "26811    ['oh', 'boy', 'come', 'long', 'venting', 'post...\n",
      "26812    ['dont', 'know', 'exactly', 'feel', 'course', ...\n",
      "26813    ['op', 'stop', 'faggot', 'post', 'video', 'nex...\n",
      "26814    ['clue', 'whos', 'point', 'time', 'need', 'get...\n",
      "Name: text_final, Length: 26815, dtype: object\n"
     ]
    }
   ],
   "source": [
    "print(hate_data['text_final'])"
   ]
  },
  {
   "cell_type": "code",
   "execution_count": 109,
   "metadata": {},
   "outputs": [],
   "source": [
    "hate_labels = pd.DataFrame(hate_labels)"
   ]
  },
  {
   "cell_type": "code",
   "execution_count": 110,
   "metadata": {},
   "outputs": [
    {
     "name": "stdout",
     "output_type": "stream",
     "text": [
      "20283    ['recently', 'get', 'recommendation', 'peacefu...\n",
      "12850                                             ['true']\n",
      "25104                        ['hoist', 'retard', 'edness']\n",
      "21864    ['nothing', 'infuriates', 'retard', 'try', 'in...\n",
      "9808                        ['ai', 'bitch', 'try', 'rape']\n",
      "                               ...                        \n",
      "16088    ['feature', 'pretty', 'good', 'cut', 'edge', '...\n",
      "1552     ['arrested', 'gangster', 'alien', 'child', 'br...\n",
      "16163    ['wan', 'na', 'shake', 'anytime', 'new', 'mili...\n",
      "23500    ['would', 'even', 'matter', 'law', 'afford', '...\n",
      "11493                                ['justify', 'policy']\n",
      "Name: text_final, Length: 8045, dtype: object\n",
      "(18770,)\n",
      "(18770,)\n"
     ]
    }
   ],
   "source": [
    "Train_X, Test_X, Train_Y, Test_Y = model_selection.train_test_split(hate_data['text_final'],hate_labels[0],test_size=0.3)\n",
    "print(Test_X)\n",
    "Encoder = LabelEncoder()\n",
    "Train_Y = Encoder.fit_transform(Train_Y)\n",
    "Test_Y = Encoder.fit_transform(Test_Y)\n",
    "print(Train_X.shape)\n",
    "print(Train_Y.shape)"
   ]
  },
  {
   "cell_type": "code",
   "execution_count": 111,
   "metadata": {},
   "outputs": [
    {
     "name": "stdout",
     "output_type": "stream",
     "text": [
      "20283    ['recently', 'get', 'recommendation', 'peacefu...\n",
      "12850                                             ['true']\n",
      "25104                        ['hoist', 'retard', 'edness']\n",
      "21864    ['nothing', 'infuriates', 'retard', 'try', 'in...\n",
      "9808                        ['ai', 'bitch', 'try', 'rape']\n",
      "                               ...                        \n",
      "16088    ['feature', 'pretty', 'good', 'cut', 'edge', '...\n",
      "1552     ['arrested', 'gangster', 'alien', 'child', 'br...\n",
      "16163    ['wan', 'na', 'shake', 'anytime', 'new', 'mili...\n",
      "23500    ['would', 'even', 'matter', 'law', 'afford', '...\n",
      "11493                                ['justify', 'policy']\n",
      "Name: text_final, Length: 8045, dtype: object\n"
     ]
    }
   ],
   "source": [
    "Tfidf_vect = TfidfVectorizer(max_features=5000)\n",
    "Tfidf_vect.fit(hate_data['text_final'])\n",
    "Train_X_Tfidf = Tfidf_vect.transform(Train_X)\n",
    "Test_X_Tfidf = Tfidf_vect.transform(Test_X)\n",
    "print(Test_X)"
   ]
  },
  {
   "cell_type": "code",
   "execution_count": 112,
   "metadata": {},
   "outputs": [
    {
     "name": "stdout",
     "output_type": "stream",
     "text": [
      "Naive Bayes Accuracy Score ->  82.16283405842137\n"
     ]
    }
   ],
   "source": [
    "Naive = naive_bayes.MultinomialNB()\n",
    "Naive.fit(Train_X_Tfidf,Train_Y)\n",
    "predictions_NB = Naive.predict(Test_X_Tfidf)\n",
    "print(\"Naive Bayes Accuracy Score -> \",accuracy_score(predictions_NB, Test_Y)*100)"
   ]
  },
  {
   "cell_type": "code",
   "execution_count": null,
   "metadata": {},
   "outputs": [],
   "source": [
    "#SVM\n",
    "#print(Train_Y.shape)\n",
    "# gamma = 2**-4, 2**-3, 2**-2, 2**-1, 2**0, 2**1\n",
    "# c = 10**-3, 10**-2, 10**-1, 10**0, 10**1\n",
    "SVM = svm.SVC(C=1.0, kernel='rbf', degree=3, gamma=2**1)\n",
    "SVM.fit(Train_X_Tfidf,Train_Y)\n",
    "predictions_SVM = SVM.predict(Test_X_Tfidf)\n",
    "print(\"SVM Accuracy Score -> \",accuracy_score(predictions_SVM, Test_Y)*100)\n",
    "print(\"Precision -> \", precision_score(Test_Y, predictions_SVM, average=\"binary\"))\n",
    "print(\"Recall -> \", recall_score(Test_Y, predictions_SVM, average=\"binary\"))\n",
    "print(\"F1 Score -> \", f1_score(Test_Y, predictions_SVM, average=\"binary\"))\n",
    "cm = confusion_matrix(Test_Y, predictions_SVM, labels=[0, 1])\n",
    "print(\"Confusion Matrix -> \", cm)\n",
    "\n",
    "tn, fp, fn, tp = confusion_matrix(list(Test_Y), list(predictions_SVM), labels=[0, 1]).ravel()\n",
    "print('True Positive', tp)\n",
    "print('True Negative', tn)\n",
    "print('False Positive', fp)\n",
    "print('False Negative', fn)\n",
    "\n",
    "npv = tn / (tn+fn)\n",
    "print(\"NPV -> \", npv)\n",
    "fpr = fp / (fp+tn)\n",
    "print(\"FPR -> \", fpr)\n",
    "fdr = fp / (tp+fp)\n",
    "print(\"FDR -> \", fdr)\n",
    "\n",
    "# filename = 'finalized_model.sav'\n",
    "# pickle.dump(predictions_SVM, open(filename, 'wb'))"
   ]
  },
  {
   "cell_type": "code",
   "execution_count": 103,
   "metadata": {},
   "outputs": [
    {
     "name": "stdout",
     "output_type": "stream",
     "text": [
      "Finished preprocessing\n",
      "                                  0                           text_final\n",
      "0  [trans, women, are, real, women]  ['trans', 'woman', 'real', 'woman']\n",
      "(1, 5000)\n",
      "[1]\n"
     ]
    }
   ],
   "source": [
    "sentence = \"trans women are real women\" #input(\"Please enter a sentence:\")\n",
    "hate_data2 = []\n",
    "hate_data2.append(sentence)\n",
    "\n",
    "hate_data2 = pd.DataFrame(hate_data2)\n",
    "\n",
    "hate_data2[0].dropna(inplace=True)\n",
    "hate_data2[0] = [entry.lower() for entry in hate_data2[0]] # all lowercase\n",
    "hate_data2[0]= [word_tokenize(entry) for entry in hate_data2[0]] # tokenization\n",
    "tag_map = defaultdict(lambda : wn.NOUN)\n",
    "tag_map['J'] = wn.ADJ #seperate adjectives\n",
    "tag_map['V'] = wn.VERB #seperate verbs\n",
    "tag_map['R'] = wn.ADV #seperate adverbs\n",
    "\n",
    "for index,entry in enumerate(hate_data2[0]):\n",
    "    # Declaring Empty List to store the words that follow the rules for this step\n",
    "    Final_words = []\n",
    "    # Initializing WordNetLemmatizer()\n",
    "    word_Lemmatized = WordNetLemmatizer()\n",
    "    # pos_tag function below will provide the 'tag' i.e if the word is Noun(N) or Verb(V) or something else.\n",
    "    for word, tag in pos_tag(entry):\n",
    "        # Below condition is to check for Stop words and consider only alphabets\n",
    "        if word not in stopwords.words('english') and word.isalpha():\n",
    "            word_Final = word_Lemmatized.lemmatize(word,tag_map[tag[0]])\n",
    "            Final_words.append(word_Final)\n",
    "    # The final processed set of words for each iteration will be stored in 'text_final'\n",
    "    hate_data2.loc[index,'text_final'] = str(Final_words)\n",
    "    \n",
    "print(\"Finished preprocessing\")\n",
    "\n",
    "print(hate_data2)\n",
    "\n",
    "Tfidf_vect = TfidfVectorizer(max_features=5000)\n",
    "Tfidf_vect.fit(hate_data['text_final'])\n",
    "Test_X_Tfidf = Tfidf_vect.transform(hate_data2['text_final'])\n",
    "print(Test_X_Tfidf.shape)\n",
    "predictions_SVM = SVM.predict(Test_X_Tfidf)\n",
    "print(predictions_SVM)"
   ]
  }
 ],
 "metadata": {
  "interpreter": {
   "hash": "d16ae352f8a240a02a1e704d09f25d5e19d8fe5dd97353322b143384066a98b8"
  },
  "kernelspec": {
   "display_name": "Python 3.9.7 ('tf-gpu')",
   "language": "python",
   "name": "python3"
  },
  "language_info": {
   "codemirror_mode": {
    "name": "ipython",
    "version": 3
   },
   "file_extension": ".py",
   "mimetype": "text/x-python",
   "name": "python",
   "nbconvert_exporter": "python",
   "pygments_lexer": "ipython3",
   "version": "3.9.7"
  },
  "orig_nbformat": 4
 },
 "nbformat": 4,
 "nbformat_minor": 2
}
